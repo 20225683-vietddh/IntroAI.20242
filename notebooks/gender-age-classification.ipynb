{
 "cells": [
  {
   "cell_type": "code",
   "execution_count": 1,
   "metadata": {
    "execution": {
     "iopub.execute_input": "2025-05-31T17:42:01.837058Z",
     "iopub.status.busy": "2025-05-31T17:42:01.836822Z",
     "iopub.status.idle": "2025-05-31T17:42:49.875724Z",
     "shell.execute_reply": "2025-05-31T17:42:49.875097Z",
     "shell.execute_reply.started": "2025-05-31T17:42:01.837033Z"
    },
    "trusted": true
   },
   "outputs": [
    {
     "name": "stdout",
     "output_type": "stream",
     "text": [
      "[INFO] Dữ liệu X: (14111, 227, 227, 3)\n",
      "[INFO] Nhãn tuổi: (14111, 8) | Nhãn giới tính: (14111, 2)\n",
      "[INFO] X1: (11759, 227, 227, 3) | y_age1: (11759, 8) | y_gender1: (11759, 2)\n",
      "[INFO] X2: (2352, 227, 227, 3) | y_age2: (2352, 8) | y_gender2: (2352, 2)\n"
     ]
    }
   ],
   "source": [
    "# =============================\n",
    "# 1. Load dữ liệu từ file nén\n",
    "# =============================\n",
    "import numpy as np\n",
    "\n",
    "data = np.load('../input/dataset-compressed/dataset_compressed.npz')\n",
    "X = data['X']\n",
    "y_age = data['y_age']\n",
    "y_gender = data['y_gender']\n",
    "\n",
    "print(f\"[INFO] Dữ liệu X: {X.shape}\")\n",
    "print(f\"[INFO] Nhãn tuổi: {y_age.shape} | Nhãn giới tính: {y_gender.shape}\")\n",
    "\n",
    "# =====================================\n",
    "# 2. Chia dữ liệu thành 2 phần \n",
    "# =====================================\n",
    "# Chia theo tỷ lệ 2/3 và 1/3\n",
    "total_samples = X.shape[0]\n",
    "split_index = int(total_samples * 5 / 6)\n",
    "\n",
    "# Dữ liệu 2/3 đầu\n",
    "X1 = X[:split_index]\n",
    "y_age1 = y_age[:split_index]\n",
    "y_gender1 = y_gender[:split_index]\n",
    "\n",
    "# Dữ liệu 1/3 sau\n",
    "X2 = X[split_index:]\n",
    "y_age2 = y_age[split_index:]\n",
    "y_gender2 = y_gender[split_index:]\n",
    "\n",
    "print(f\"[INFO] X1: {X1.shape} | y_age1: {y_age1.shape} | y_gender1: {y_gender1.shape}\")\n",
    "print(f\"[INFO] X2: {X2.shape} | y_age2: {y_age2.shape} | y_gender2: {y_gender2.shape}\")"
   ]
  },
  {
   "cell_type": "code",
   "execution_count": 2,
   "metadata": {
    "execution": {
     "iopub.execute_input": "2025-05-31T17:43:56.781472Z",
     "iopub.status.busy": "2025-05-31T17:43:56.781118Z",
     "iopub.status.idle": "2025-05-31T17:44:10.392978Z",
     "shell.execute_reply": "2025-05-31T17:44:10.392381Z",
     "shell.execute_reply.started": "2025-05-31T17:43:56.781443Z"
    },
    "trusted": true
   },
   "outputs": [
    {
     "name": "stderr",
     "output_type": "stream",
     "text": [
      "2025-05-31 17:43:58.209271: E external/local_xla/xla/stream_executor/cuda/cuda_fft.cc:477] Unable to register cuFFT factory: Attempting to register factory for plugin cuFFT when one has already been registered\n",
      "WARNING: All log messages before absl::InitializeLog() is called are written to STDERR\n",
      "E0000 00:00:1748713438.375831      35 cuda_dnn.cc:8310] Unable to register cuDNN factory: Attempting to register factory for plugin cuDNN when one has already been registered\n",
      "E0000 00:00:1748713438.427326      35 cuda_blas.cc:1418] Unable to register cuBLAS factory: Attempting to register factory for plugin cuBLAS when one has already been registered\n"
     ]
    }
   ],
   "source": [
    "import tensorflow as tf\n",
    "from tensorflow.keras import layers, Model # type: ignore\n",
    "\n",
    "def build_model(input_shape=(227, 227, 3)):\n",
    "    # Input layer\n",
    "    inputs = layers.Input(shape=input_shape)\n",
    "    \n",
    "    # Conv1\n",
    "    x = layers.Conv2D(96, (7, 7), strides=2, padding='same')(inputs)\n",
    "    x = layers.Activation('relu')(x)\n",
    "    x = layers.MaxPooling2D(pool_size=(3, 3), strides=2)(x)\n",
    "    x = layers.BatchNormalization() (x)  \n",
    "\n",
    "    # Conv2\n",
    "    x = layers.Conv2D(256, (5, 5), strides=2, padding='same')(x)\n",
    "    x = layers.Activation('relu')(x)\n",
    "    x = layers.MaxPooling2D(pool_size=(3, 3), strides=2)(x)\n",
    "    x = layers.BatchNormalization()(x)\n",
    "\n",
    "    # Conv3\n",
    "    x = layers.Conv2D(384, (3, 3), strides=2, padding='same')(x)\n",
    "    x = layers.Activation('relu')(x)\n",
    "    x = layers.MaxPooling2D(pool_size=(3, 3), strides=2)(x)\n",
    "\n",
    "    # Flatten & Shared FC layers\n",
    "    x = layers.Flatten()(x)\n",
    "    x = layers.Dense(512)(x)\n",
    "    x = layers.Activation('relu')(x)\n",
    "    x = layers.Dropout(0.5)(x)\n",
    "\n",
    "    x = layers.Dense(512)(x)\n",
    "    x = layers.Activation('relu')(x)\n",
    "    shared_features = layers.Dropout(0.5)(x)\n",
    "\n",
    "    # Gender prediction branch (2 classes: male/female)\n",
    "    gender_branch = layers.Dense(256, activation='relu')(shared_features)\n",
    "    gender_branch = layers.Dropout(0.3)(gender_branch)\n",
    "    gender_output = layers.Dense(2, activation='softmax', name='gender_output')(gender_branch)\n",
    "\n",
    "    # Age prediction branch (8 classes: age groups)\n",
    "    age_branch = layers.Dense(512, activation='relu')(shared_features)\n",
    "    age_branch = layers.Dropout(0.3)(age_branch)\n",
    "    age_branch = layers.Dense(256, activation='relu')(age_branch)\n",
    "    age_branch = layers.Dropout(0.3)(age_branch)\n",
    "    age_output = layers.Dense(8, activation='softmax', name='age_output')(age_branch)\n",
    "\n",
    "    # Create model with multiple outputs\n",
    "    model = Model(inputs=inputs, outputs=[gender_output, age_output])\n",
    "\n",
    "    return model\n",
    "\n",
    "def compile_model(model, learning_rate=0.001):\n",
    "    model.compile(\n",
    "        optimizer=tf.keras.optimizers.SGD(learning_rate=learning_rate, momentum=0.9),\n",
    "        loss={\n",
    "            'gender_output': 'categorical_crossentropy',\n",
    "            'age_output': 'categorical_crossentropy'\n",
    "        },\n",
    "        loss_weights={\n",
    "            'gender_output': 1.0,\n",
    "            'age_output': 1.0\n",
    "        },\n",
    "        metrics={\n",
    "            'gender_output': ['accuracy'],\n",
    "            'age_output': ['accuracy']\n",
    "        }\n",
    "    )\n",
    "    return model"
   ]
  },
  {
   "cell_type": "code",
   "execution_count": 3,
   "metadata": {
    "execution": {
     "iopub.execute_input": "2025-05-31T17:44:42.209097Z",
     "iopub.status.busy": "2025-05-31T17:44:42.208588Z",
     "iopub.status.idle": "2025-05-31T17:44:44.645938Z",
     "shell.execute_reply": "2025-05-31T17:44:44.645124Z",
     "shell.execute_reply.started": "2025-05-31T17:44:42.209073Z"
    },
    "trusted": true
   },
   "outputs": [
    {
     "name": "stderr",
     "output_type": "stream",
     "text": [
      "I0000 00:00:1748713483.350170      35 gpu_device.cc:2022] Created device /job:localhost/replica:0/task:0/device:GPU:0 with 13942 MB memory:  -> device: 0, name: Tesla T4, pci bus id: 0000:00:04.0, compute capability: 7.5\n",
      "I0000 00:00:1748713483.350883      35 gpu_device.cc:2022] Created device /job:localhost/replica:0/task:0/device:GPU:1 with 13942 MB memory:  -> device: 1, name: Tesla T4, pci bus id: 0000:00:05.0, compute capability: 7.5\n"
     ]
    }
   ],
   "source": [
    "model = build_model(input_shape=(227, 227, 3))\n",
    "model = compile_model(model, learning_rate=0.001)"
   ]
  },
  {
   "cell_type": "code",
   "execution_count": 4,
   "metadata": {
    "execution": {
     "iopub.execute_input": "2025-05-31T17:44:46.811029Z",
     "iopub.status.busy": "2025-05-31T17:44:46.810182Z",
     "iopub.status.idle": "2025-05-31T17:44:46.818872Z",
     "shell.execute_reply": "2025-05-31T17:44:46.818072Z",
     "shell.execute_reply.started": "2025-05-31T17:44:46.810995Z"
    },
    "trusted": true
   },
   "outputs": [],
   "source": [
    "import numpy as np\n",
    "import time\n",
    "\n",
    "def train_model(\n",
    "    model=None,\n",
    "    X=None,\n",
    "    y_age=None,\n",
    "    y_gender=None,\n",
    "    batch_size=32,\n",
    "    epochs=20,\n",
    "    validation_split=0.2,\n",
    "    model_save_path='outputs/trained_model.h5',\n",
    "):\n",
    "    \"\"\"\n",
    "    Huấn luyện mô hình sử dụng dữ liệu đã load sẵn vào RAM: X, y_age, y_gender.\n",
    "    \"\"\"\n",
    "\n",
    "    # Kiểm tra đầu vào\n",
    "    total_samples = X.shape[0]\n",
    "    assert y_age.shape[0] == total_samples and y_gender.shape[0] == total_samples, \"Kích thước không khớp!\"\n",
    "\n",
    "    # Tạo chỉ số train/val\n",
    "    indices = np.arange(total_samples)\n",
    "    np.random.seed(42)\n",
    "    np.random.shuffle(indices)\n",
    "\n",
    "    val_samples = int(total_samples * validation_split)\n",
    "    val_indices = indices[:val_samples]\n",
    "    train_indices = indices[val_samples:]\n",
    "\n",
    "    print(f\"[INFO] Tổng mẫu: {total_samples}\")\n",
    "    print(f\"[INFO] Mẫu train: {len(train_indices)}, Mẫu val: {len(val_indices)}\")\n",
    "\n",
    "    # Tách dữ liệu theo chỉ số\n",
    "    X_train, y_age_train, y_gender_train = X[train_indices], y_age[train_indices], y_gender[train_indices]\n",
    "    X_val, y_age_val, y_gender_val = X[val_indices], y_age[val_indices], y_gender[val_indices]\n",
    "\n",
    "    y_train = {\n",
    "        'age_output': y_age_train,\n",
    "        'gender_output': y_gender_train\n",
    "    }\n",
    "    y_val = {\n",
    "        'age_output': y_age_val,\n",
    "        'gender_output': y_gender_val\n",
    "    }\n",
    "\n",
    "    print(\"[INFO] Bắt đầu huấn luyện...\")\n",
    "    start_time = time.time()\n",
    "\n",
    "    history = model.fit(\n",
    "        X_train, y_train,\n",
    "        validation_data=(X_val, y_val),\n",
    "        batch_size=batch_size,\n",
    "        epochs=epochs,\n",
    "        verbose=1,\n",
    "    )\n",
    "\n",
    "    duration = time.time() - start_time\n",
    "    print(f\"[INFO] Huấn luyện hoàn tất sau {duration / 60:.2f} phút.\")\n",
    "\n",
    "    print(f\"[INFO] Lưu mô hình vào {model_save_path}...\")\n",
    "    model.save(model_save_path)\n",
    "\n",
    "    return history, model"
   ]
  },
  {
   "cell_type": "code",
   "execution_count": 5,
   "metadata": {
    "execution": {
     "iopub.execute_input": "2025-05-31T17:44:53.156544Z",
     "iopub.status.busy": "2025-05-31T17:44:53.156221Z",
     "iopub.status.idle": "2025-05-31T17:56:08.282685Z",
     "shell.execute_reply": "2025-05-31T17:56:08.282013Z",
     "shell.execute_reply.started": "2025-05-31T17:44:53.156522Z"
    },
    "trusted": true
   },
   "outputs": [
    {
     "name": "stdout",
     "output_type": "stream",
     "text": [
      "[INFO] Tổng mẫu: 11759\n",
      "[INFO] Mẫu train: 9408, Mẫu val: 2351\n",
      "[INFO] Bắt đầu huấn luyện...\n",
      "Epoch 1/30\n"
     ]
    },
    {
     "name": "stderr",
     "output_type": "stream",
     "text": [
      "WARNING: All log messages before absl::InitializeLog() is called are written to STDERR\n",
      "I0000 00:00:1748713514.099431      99 service.cc:148] XLA service 0x7f3474003fe0 initialized for platform CUDA (this does not guarantee that XLA will be used). Devices:\n",
      "I0000 00:00:1748713514.100301      99 service.cc:156]   StreamExecutor device (0): Tesla T4, Compute Capability 7.5\n",
      "I0000 00:00:1748713514.100327      99 service.cc:156]   StreamExecutor device (1): Tesla T4, Compute Capability 7.5\n",
      "I0000 00:00:1748713514.502035      99 cuda_dnn.cc:529] Loaded cuDNN version 90300\n"
     ]
    },
    {
     "name": "stdout",
     "output_type": "stream",
     "text": [
      "\u001b[1m  3/471\u001b[0m \u001b[37m━━━━━━━━━━━━━━━━━━━━\u001b[0m \u001b[1m29s\u001b[0m 63ms/step - age_output_accuracy: 0.1806 - age_output_loss: 2.3009 - gender_output_accuracy: 0.5417 - gender_output_loss: 1.2200 - loss: 3.5209  "
     ]
    },
    {
     "name": "stderr",
     "output_type": "stream",
     "text": [
      "I0000 00:00:1748713520.943823      99 device_compiler.h:188] Compiled cluster using XLA!  This line is logged at most once for the lifetime of the process.\n"
     ]
    },
    {
     "name": "stdout",
     "output_type": "stream",
     "text": [
      "\u001b[1m471/471\u001b[0m \u001b[32m━━━━━━━━━━━━━━━━━━━━\u001b[0m\u001b[37m\u001b[0m \u001b[1m43s\u001b[0m 68ms/step - age_output_accuracy: 0.3027 - age_output_loss: 1.9678 - gender_output_accuracy: 0.5163 - gender_output_loss: 0.7939 - loss: 2.7617 - val_age_output_accuracy: 0.3373 - val_age_output_loss: 1.8508 - val_gender_output_accuracy: 0.5572 - val_gender_output_loss: 0.6762 - val_loss: 2.5266\n",
      "Epoch 2/30\n",
      "\u001b[1m471/471\u001b[0m \u001b[32m━━━━━━━━━━━━━━━━━━━━\u001b[0m\u001b[37m\u001b[0m \u001b[1m21s\u001b[0m 44ms/step - age_output_accuracy: 0.3414 - age_output_loss: 1.7902 - gender_output_accuracy: 0.5647 - gender_output_loss: 0.6777 - loss: 2.4679 - val_age_output_accuracy: 0.3373 - val_age_output_loss: 1.7902 - val_gender_output_accuracy: 0.6563 - val_gender_output_loss: 0.6309 - val_loss: 2.4207\n",
      "Epoch 3/30\n",
      "\u001b[1m471/471\u001b[0m \u001b[32m━━━━━━━━━━━━━━━━━━━━\u001b[0m\u001b[37m\u001b[0m \u001b[1m21s\u001b[0m 45ms/step - age_output_accuracy: 0.3591 - age_output_loss: 1.7569 - gender_output_accuracy: 0.6232 - gender_output_loss: 0.6383 - loss: 2.3952 - val_age_output_accuracy: 0.3492 - val_age_output_loss: 1.7216 - val_gender_output_accuracy: 0.6925 - val_gender_output_loss: 0.5983 - val_loss: 2.3193\n",
      "Epoch 4/30\n",
      "\u001b[1m471/471\u001b[0m \u001b[32m━━━━━━━━━━━━━━━━━━━━\u001b[0m\u001b[37m\u001b[0m \u001b[1m22s\u001b[0m 46ms/step - age_output_accuracy: 0.3656 - age_output_loss: 1.7068 - gender_output_accuracy: 0.6476 - gender_output_loss: 0.6178 - loss: 2.3245 - val_age_output_accuracy: 0.4134 - val_age_output_loss: 1.6262 - val_gender_output_accuracy: 0.7159 - val_gender_output_loss: 0.5732 - val_loss: 2.1989\n",
      "Epoch 5/30\n",
      "\u001b[1m471/471\u001b[0m \u001b[32m━━━━━━━━━━━━━━━━━━━━\u001b[0m\u001b[37m\u001b[0m \u001b[1m21s\u001b[0m 45ms/step - age_output_accuracy: 0.4136 - age_output_loss: 1.6021 - gender_output_accuracy: 0.6836 - gender_output_loss: 0.5776 - loss: 2.1797 - val_age_output_accuracy: 0.4419 - val_age_output_loss: 1.4550 - val_gender_output_accuracy: 0.7248 - val_gender_output_loss: 0.5252 - val_loss: 1.9796\n",
      "Epoch 6/30\n",
      "\u001b[1m471/471\u001b[0m \u001b[32m━━━━━━━━━━━━━━━━━━━━\u001b[0m\u001b[37m\u001b[0m \u001b[1m21s\u001b[0m 44ms/step - age_output_accuracy: 0.4299 - age_output_loss: 1.5106 - gender_output_accuracy: 0.7019 - gender_output_loss: 0.5522 - loss: 2.0628 - val_age_output_accuracy: 0.4479 - val_age_output_loss: 1.4342 - val_gender_output_accuracy: 0.7597 - val_gender_output_loss: 0.4813 - val_loss: 1.9147\n",
      "Epoch 7/30\n",
      "\u001b[1m471/471\u001b[0m \u001b[32m━━━━━━━━━━━━━━━━━━━━\u001b[0m\u001b[37m\u001b[0m \u001b[1m21s\u001b[0m 45ms/step - age_output_accuracy: 0.4424 - age_output_loss: 1.4709 - gender_output_accuracy: 0.7132 - gender_output_loss: 0.5383 - loss: 2.0092 - val_age_output_accuracy: 0.4717 - val_age_output_loss: 1.3873 - val_gender_output_accuracy: 0.7716 - val_gender_output_loss: 0.4564 - val_loss: 1.8425\n",
      "Epoch 8/30\n",
      "\u001b[1m471/471\u001b[0m \u001b[32m━━━━━━━━━━━━━━━━━━━━\u001b[0m\u001b[37m\u001b[0m \u001b[1m21s\u001b[0m 45ms/step - age_output_accuracy: 0.4464 - age_output_loss: 1.4470 - gender_output_accuracy: 0.7481 - gender_output_loss: 0.4849 - loss: 1.9319 - val_age_output_accuracy: 0.4500 - val_age_output_loss: 1.3824 - val_gender_output_accuracy: 0.7907 - val_gender_output_loss: 0.4452 - val_loss: 1.8260\n",
      "Epoch 9/30\n",
      "\u001b[1m471/471\u001b[0m \u001b[32m━━━━━━━━━━━━━━━━━━━━\u001b[0m\u001b[37m\u001b[0m \u001b[1m21s\u001b[0m 45ms/step - age_output_accuracy: 0.4511 - age_output_loss: 1.4095 - gender_output_accuracy: 0.7590 - gender_output_loss: 0.4658 - loss: 1.8753 - val_age_output_accuracy: 0.4683 - val_age_output_loss: 1.3616 - val_gender_output_accuracy: 0.7877 - val_gender_output_loss: 0.4588 - val_loss: 1.8184\n",
      "Epoch 10/30\n",
      "\u001b[1m471/471\u001b[0m \u001b[32m━━━━━━━━━━━━━━━━━━━━\u001b[0m\u001b[37m\u001b[0m \u001b[1m21s\u001b[0m 45ms/step - age_output_accuracy: 0.4584 - age_output_loss: 1.3843 - gender_output_accuracy: 0.7676 - gender_output_loss: 0.4413 - loss: 1.8256 - val_age_output_accuracy: 0.4836 - val_age_output_loss: 1.3069 - val_gender_output_accuracy: 0.7895 - val_gender_output_loss: 0.4061 - val_loss: 1.7120\n",
      "Epoch 11/30\n",
      "\u001b[1m471/471\u001b[0m \u001b[32m━━━━━━━━━━━━━━━━━━━━\u001b[0m\u001b[37m\u001b[0m \u001b[1m21s\u001b[0m 45ms/step - age_output_accuracy: 0.4788 - age_output_loss: 1.3449 - gender_output_accuracy: 0.7954 - gender_output_loss: 0.3926 - loss: 1.7374 - val_age_output_accuracy: 0.4615 - val_age_output_loss: 1.3316 - val_gender_output_accuracy: 0.7652 - val_gender_output_loss: 0.4699 - val_loss: 1.7996\n",
      "Epoch 12/30\n",
      "\u001b[1m471/471\u001b[0m \u001b[32m━━━━━━━━━━━━━━━━━━━━\u001b[0m\u001b[37m\u001b[0m \u001b[1m21s\u001b[0m 45ms/step - age_output_accuracy: 0.4870 - age_output_loss: 1.3263 - gender_output_accuracy: 0.8050 - gender_output_loss: 0.3913 - loss: 1.7176 - val_age_output_accuracy: 0.4832 - val_age_output_loss: 1.3069 - val_gender_output_accuracy: 0.8443 - val_gender_output_loss: 0.3331 - val_loss: 1.6386\n",
      "Epoch 13/30\n",
      "\u001b[1m471/471\u001b[0m \u001b[32m━━━━━━━━━━━━━━━━━━━━\u001b[0m\u001b[37m\u001b[0m \u001b[1m21s\u001b[0m 45ms/step - age_output_accuracy: 0.4912 - age_output_loss: 1.2927 - gender_output_accuracy: 0.8110 - gender_output_loss: 0.3712 - loss: 1.6639 - val_age_output_accuracy: 0.4760 - val_age_output_loss: 1.3053 - val_gender_output_accuracy: 0.8201 - val_gender_output_loss: 0.3685 - val_loss: 1.6727\n",
      "Epoch 14/30\n",
      "\u001b[1m471/471\u001b[0m \u001b[32m━━━━━━━━━━━━━━━━━━━━\u001b[0m\u001b[37m\u001b[0m \u001b[1m21s\u001b[0m 45ms/step - age_output_accuracy: 0.4895 - age_output_loss: 1.2779 - gender_output_accuracy: 0.8282 - gender_output_loss: 0.3430 - loss: 1.6209 - val_age_output_accuracy: 0.5074 - val_age_output_loss: 1.2756 - val_gender_output_accuracy: 0.8588 - val_gender_output_loss: 0.3404 - val_loss: 1.6143\n",
      "Epoch 15/30\n",
      "\u001b[1m471/471\u001b[0m \u001b[32m━━━━━━━━━━━━━━━━━━━━\u001b[0m\u001b[37m\u001b[0m \u001b[1m21s\u001b[0m 45ms/step - age_output_accuracy: 0.4989 - age_output_loss: 1.2603 - gender_output_accuracy: 0.8289 - gender_output_loss: 0.3380 - loss: 1.5983 - val_age_output_accuracy: 0.4972 - val_age_output_loss: 1.3298 - val_gender_output_accuracy: 0.8435 - val_gender_output_loss: 0.3490 - val_loss: 1.6776\n",
      "Epoch 16/30\n",
      "\u001b[1m471/471\u001b[0m \u001b[32m━━━━━━━━━━━━━━━━━━━━\u001b[0m\u001b[37m\u001b[0m \u001b[1m21s\u001b[0m 45ms/step - age_output_accuracy: 0.5031 - age_output_loss: 1.2547 - gender_output_accuracy: 0.8298 - gender_output_loss: 0.3224 - loss: 1.5771 - val_age_output_accuracy: 0.4896 - val_age_output_loss: 1.2643 - val_gender_output_accuracy: 0.8698 - val_gender_output_loss: 0.3138 - val_loss: 1.5770\n",
      "Epoch 17/30\n",
      "\u001b[1m471/471\u001b[0m \u001b[32m━━━━━━━━━━━━━━━━━━━━\u001b[0m\u001b[37m\u001b[0m \u001b[1m21s\u001b[0m 45ms/step - age_output_accuracy: 0.5069 - age_output_loss: 1.2307 - gender_output_accuracy: 0.8509 - gender_output_loss: 0.2973 - loss: 1.5280 - val_age_output_accuracy: 0.4866 - val_age_output_loss: 1.2632 - val_gender_output_accuracy: 0.8584 - val_gender_output_loss: 0.3189 - val_loss: 1.5810\n",
      "Epoch 18/30\n",
      "\u001b[1m471/471\u001b[0m \u001b[32m━━━━━━━━━━━━━━━━━━━━\u001b[0m\u001b[37m\u001b[0m \u001b[1m21s\u001b[0m 45ms/step - age_output_accuracy: 0.5183 - age_output_loss: 1.2102 - gender_output_accuracy: 0.8452 - gender_output_loss: 0.2951 - loss: 1.5053 - val_age_output_accuracy: 0.5002 - val_age_output_loss: 1.2583 - val_gender_output_accuracy: 0.8567 - val_gender_output_loss: 0.3173 - val_loss: 1.5744\n",
      "Epoch 19/30\n",
      "\u001b[1m471/471\u001b[0m \u001b[32m━━━━━━━━━━━━━━━━━━━━\u001b[0m\u001b[37m\u001b[0m \u001b[1m21s\u001b[0m 45ms/step - age_output_accuracy: 0.5220 - age_output_loss: 1.2044 - gender_output_accuracy: 0.8580 - gender_output_loss: 0.2836 - loss: 1.4880 - val_age_output_accuracy: 0.4964 - val_age_output_loss: 1.2637 - val_gender_output_accuracy: 0.8481 - val_gender_output_loss: 0.3102 - val_loss: 1.5721\n",
      "Epoch 20/30\n",
      "\u001b[1m471/471\u001b[0m \u001b[32m━━━━━━━━━━━━━━━━━━━━\u001b[0m\u001b[37m\u001b[0m \u001b[1m21s\u001b[0m 45ms/step - age_output_accuracy: 0.5246 - age_output_loss: 1.1962 - gender_output_accuracy: 0.8503 - gender_output_loss: 0.2900 - loss: 1.4862 - val_age_output_accuracy: 0.5100 - val_age_output_loss: 1.2021 - val_gender_output_accuracy: 0.8749 - val_gender_output_loss: 0.2986 - val_loss: 1.4998\n",
      "Epoch 21/30\n",
      "\u001b[1m471/471\u001b[0m \u001b[32m━━━━━━━━━━━━━━━━━━━━\u001b[0m\u001b[37m\u001b[0m \u001b[1m21s\u001b[0m 45ms/step - age_output_accuracy: 0.5184 - age_output_loss: 1.1933 - gender_output_accuracy: 0.8622 - gender_output_loss: 0.2753 - loss: 1.4686 - val_age_output_accuracy: 0.4968 - val_age_output_loss: 1.2297 - val_gender_output_accuracy: 0.8813 - val_gender_output_loss: 0.2764 - val_loss: 1.5042\n",
      "Epoch 22/30\n",
      "\u001b[1m471/471\u001b[0m \u001b[32m━━━━━━━━━━━━━━━━━━━━\u001b[0m\u001b[37m\u001b[0m \u001b[1m21s\u001b[0m 45ms/step - age_output_accuracy: 0.5372 - age_output_loss: 1.1679 - gender_output_accuracy: 0.8702 - gender_output_loss: 0.2627 - loss: 1.4306 - val_age_output_accuracy: 0.4879 - val_age_output_loss: 1.2326 - val_gender_output_accuracy: 0.8788 - val_gender_output_loss: 0.2749 - val_loss: 1.5061\n",
      "Epoch 23/30\n",
      "\u001b[1m471/471\u001b[0m \u001b[32m━━━━━━━━━━━━━━━━━━━━\u001b[0m\u001b[37m\u001b[0m \u001b[1m21s\u001b[0m 45ms/step - age_output_accuracy: 0.5338 - age_output_loss: 1.1537 - gender_output_accuracy: 0.8680 - gender_output_loss: 0.2589 - loss: 1.4126 - val_age_output_accuracy: 0.4960 - val_age_output_loss: 1.2594 - val_gender_output_accuracy: 0.8396 - val_gender_output_loss: 0.3071 - val_loss: 1.5649\n",
      "Epoch 24/30\n",
      "\u001b[1m471/471\u001b[0m \u001b[32m━━━━━━━━━━━━━━━━━━━━\u001b[0m\u001b[37m\u001b[0m \u001b[1m21s\u001b[0m 45ms/step - age_output_accuracy: 0.5399 - age_output_loss: 1.1543 - gender_output_accuracy: 0.8769 - gender_output_loss: 0.2416 - loss: 1.3959 - val_age_output_accuracy: 0.4875 - val_age_output_loss: 1.2728 - val_gender_output_accuracy: 0.8613 - val_gender_output_loss: 0.3280 - val_loss: 1.5994\n",
      "Epoch 25/30\n",
      "\u001b[1m471/471\u001b[0m \u001b[32m━━━━━━━━━━━━━━━━━━━━\u001b[0m\u001b[37m\u001b[0m \u001b[1m21s\u001b[0m 45ms/step - age_output_accuracy: 0.5369 - age_output_loss: 1.1446 - gender_output_accuracy: 0.8855 - gender_output_loss: 0.2388 - loss: 1.3834 - val_age_output_accuracy: 0.4985 - val_age_output_loss: 1.2041 - val_gender_output_accuracy: 0.8128 - val_gender_output_loss: 0.3637 - val_loss: 1.5640\n",
      "Epoch 26/30\n",
      "\u001b[1m471/471\u001b[0m \u001b[32m━━━━━━━━━━━━━━━━━━━━\u001b[0m\u001b[37m\u001b[0m \u001b[1m21s\u001b[0m 45ms/step - age_output_accuracy: 0.5330 - age_output_loss: 1.1367 - gender_output_accuracy: 0.8844 - gender_output_loss: 0.2444 - loss: 1.3811 - val_age_output_accuracy: 0.5206 - val_age_output_loss: 1.1980 - val_gender_output_accuracy: 0.8852 - val_gender_output_loss: 0.2825 - val_loss: 1.4780\n",
      "Epoch 27/30\n",
      "\u001b[1m471/471\u001b[0m \u001b[32m━━━━━━━━━━━━━━━━━━━━\u001b[0m\u001b[37m\u001b[0m \u001b[1m21s\u001b[0m 45ms/step - age_output_accuracy: 0.5501 - age_output_loss: 1.1089 - gender_output_accuracy: 0.8840 - gender_output_loss: 0.2312 - loss: 1.3401 - val_age_output_accuracy: 0.5168 - val_age_output_loss: 1.2132 - val_gender_output_accuracy: 0.8516 - val_gender_output_loss: 0.3164 - val_loss: 1.5280\n",
      "Epoch 28/30\n",
      "\u001b[1m471/471\u001b[0m \u001b[32m━━━━━━━━━━━━━━━━━━━━\u001b[0m\u001b[37m\u001b[0m \u001b[1m21s\u001b[0m 45ms/step - age_output_accuracy: 0.5452 - age_output_loss: 1.1210 - gender_output_accuracy: 0.8843 - gender_output_loss: 0.2377 - loss: 1.3587 - val_age_output_accuracy: 0.5223 - val_age_output_loss: 1.2486 - val_gender_output_accuracy: 0.8864 - val_gender_output_loss: 0.2863 - val_loss: 1.5339\n",
      "Epoch 29/30\n",
      "\u001b[1m471/471\u001b[0m \u001b[32m━━━━━━━━━━━━━━━━━━━━\u001b[0m\u001b[37m\u001b[0m \u001b[1m21s\u001b[0m 45ms/step - age_output_accuracy: 0.5426 - age_output_loss: 1.0994 - gender_output_accuracy: 0.8911 - gender_output_loss: 0.2194 - loss: 1.3188 - val_age_output_accuracy: 0.5491 - val_age_output_loss: 1.1848 - val_gender_output_accuracy: 0.8911 - val_gender_output_loss: 0.2609 - val_loss: 1.4430\n",
      "Epoch 30/30\n",
      "\u001b[1m471/471\u001b[0m \u001b[32m━━━━━━━━━━━━━━━━━━━━\u001b[0m\u001b[37m\u001b[0m \u001b[1m21s\u001b[0m 45ms/step - age_output_accuracy: 0.5463 - age_output_loss: 1.0895 - gender_output_accuracy: 0.9069 - gender_output_loss: 0.2031 - loss: 1.2926 - val_age_output_accuracy: 0.5228 - val_age_output_loss: 1.1838 - val_gender_output_accuracy: 0.8715 - val_gender_output_loss: 0.2903 - val_loss: 1.4729\n",
      "[INFO] Huấn luyện hoàn tất sau 11.21 phút.\n",
      "[INFO] Lưu mô hình vào /kaggle/working/trained_model_ver3.h5...\n"
     ]
    }
   ],
   "source": [
    "# =============================\n",
    "# 4. Train mô hình\n",
    "# =============================\n",
    "history, trained_model = train_model(\n",
    "    model=model,\n",
    "    X=X1,\n",
    "    y_age=y_age1,\n",
    "    y_gender=y_gender1,\n",
    "    batch_size=20,  \n",
    "    epochs=30,\n",
    "    validation_split=0.2,\n",
    "    model_save_path='/kaggle/working/trained_model_ver3.h5'\n",
    ")"
   ]
  },
  {
   "cell_type": "code",
   "execution_count": 8,
   "metadata": {
    "execution": {
     "iopub.execute_input": "2025-05-31T17:59:26.918612Z",
     "iopub.status.busy": "2025-05-31T17:59:26.918046Z",
     "iopub.status.idle": "2025-05-31T17:59:27.124931Z",
     "shell.execute_reply": "2025-05-31T17:59:27.124111Z",
     "shell.execute_reply.started": "2025-05-31T17:59:26.918585Z"
    },
    "trusted": true
   },
   "outputs": [
    {
     "data": {
      "image/png": "[encoded data removed]",
      "text/plain": [
       "<Figure size 640x480 with 1 Axes>"
      ]
     },
     "metadata": {},
     "output_type": "display_data"
    }
   ],
   "source": [
    "# =============================\n",
    "# 5. Vẽ biểu đồ kết quả\n",
    "# =============================\n",
    "import matplotlib.pyplot as plt\n",
    "\n",
    "plt.plot(history.history['gender_output_accuracy'], label='Train Gender Acc')\n",
    "plt.plot(history.history['val_gender_output_accuracy'], label='Val Gender Acc')\n",
    "plt.plot(history.history['age_output_accuracy'], label='Train Age Acc')\n",
    "plt.plot(history.history['val_age_output_accuracy'], label='Val Age Acc')\n",
    "plt.xlabel(\"Epoch\")\n",
    "plt.title(\"Training History\")\n",
    "plt.legend()\n",
    "plt.grid(True)\n",
    "plt.show()"
   ]
  }
 ],
 "metadata": {
  "kaggle": {
   "accelerator": "nvidiaTeslaT4",
   "dataSources": [
    {
     "datasetId": 7557563,
     "sourceId": 12013028,
     "sourceType": "datasetVersion"
    }
   ],
   "dockerImageVersionId": 31040,
   "isGpuEnabled": true,
   "isInternetEnabled": false,
   "language": "python",
   "sourceType": "notebook"
  },
  "kernelspec": {
   "display_name": "Python 3",
   "language": "python",
   "name": "python3"
  },
  "language_info": {
   "codemirror_mode": {
    "name": "ipython",
    "version": 3
   },
   "file_extension": ".py",
   "mimetype": "text/x-python",
   "name": "python",
   "nbconvert_exporter": "python",
   "pygments_lexer": "ipython3",
   "version": "3.11.11"
  }
 },
 "nbformat": 4,
 "nbformat_minor": 4
}
